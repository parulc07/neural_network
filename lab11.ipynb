{
 "cells": [
  {
   "cell_type": "markdown",
   "metadata": {},
   "source": [
    "## Experiment:11 \n",
    "## Write a program to solve XOR problem using Multi Layer Perceptron and draw the decision boundary."
   ]
  },
  {
   "cell_type": "code",
   "execution_count": 1,
   "metadata": {},
   "outputs": [],
   "source": [
    "import matplotlib.pyplot as plt\n",
    "import numpy as np\n",
    "import math\n",
    "t = 0.5\n",
    "def σ(value):\n",
    "  return 1/(1 + np.exp(value)) >= t\n",
    "def mlp(x1, x2):\n",
    "   h1 = σ((1-x1) + x2)\n",
    "   h2 = σ(x1 + (1-x2))\n",
    "   return σ(h1 + h2)"
   ]
  },
  {
   "cell_type": "code",
   "execution_count": 2,
   "metadata": {},
   "outputs": [
    {
     "data": {
      "image/png": "[encoded data removed]",
      "text/plain": [
       "<Figure size 432x288 with 1 Axes>"
      ]
     },
     "metadata": {
      "needs_background": "light"
     },
     "output_type": "display_data"
    }
   ],
   "source": [
    "# Define the input data and the target output\n",
    "X = np.array([[0, 0], [0, 1], [1, 0], [1, 1]])\n",
    "y_xor = []\n",
    "for x in X:\n",
    "  y_xor.append(mlp(x[0], x[1]))\n",
    "\n",
    "plt.axline((0, t), (t, 0))\n",
    "plt.scatter(X[:, 0], X[:, 1], c=['green' if label == 1 else 'red' for label in y_xor])\n",
    "plt.show()\n"
   ]
  }
 ],
 "metadata": {
  "kernelspec": {
   "display_name": "Python 3",
   "language": "python",
   "name": "python3"
  },
  "language_info": {
   "codemirror_mode": {
    "name": "ipython",
    "version": 3
   },
   "file_extension": ".py",
   "mimetype": "text/x-python",
   "name": "python",
   "nbconvert_exporter": "python",
   "pygments_lexer": "ipython3",
   "version": "3.10.0"
  }
 },
 "nbformat": 4,
 "nbformat_minor": 2
}
