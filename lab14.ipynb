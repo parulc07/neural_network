{
 "cells": [
  {
   "cell_type": "markdown",
   "metadata": {},
   "source": [
    "## Experiment: 14 Write a program to demonstrate the working of heteroassociative memory."
   ]
  },
  {
   "cell_type": "code",
   "execution_count": 1,
   "metadata": {},
   "outputs": [
    {
     "name": "stdout",
     "output_type": "stream",
     "text": [
      "Original Input Pattern: [1, 0]\n",
      "Recalled Output Pattern: [1.85269964]\n"
     ]
    }
   ],
   "source": [
    "import numpy as np\n",
    "\n",
    "class HeteroassociativeMemory:\n",
    "    def __init__(self, input_size, output_size):\n",
    "        self.weights = np.random.rand(output_size, input_size)\n",
    "\n",
    "    def train(self, input_patterns, output_patterns):\n",
    "        for x, y in zip(input_patterns, output_patterns):\n",
    "            x = np.array(x).reshape((len(x), 1))\n",
    "            y = np.array(y).reshape((len(y), 1))\n",
    "            self.weights += np.dot(y, x.T)\n",
    "\n",
    "    def recall(self, input_pattern):\n",
    "        input_pattern = np.array(input_pattern).reshape((len(input_pattern), 1))\n",
    "        output_pattern = np.dot(self.weights, input_pattern)\n",
    "        return output_pattern.flatten()\n",
    "\n",
    "if __name__ == \"__main__\":\n",
    "    input_patterns = [\n",
    "        [1, 0],\n",
    "        [0, 1],\n",
    "        [1, 1],\n",
    "        [0, 0]\n",
    "    ]\n",
    "    output_patterns = [\n",
    "        [1],\n",
    "        [1],\n",
    "        [0],\n",
    "        [0]\n",
    "    ]\n",
    "\n",
    "    hetero_net = HeteroassociativeMemory(input_size=2, output_size=1)\n",
    "    hetero_net.train(input_patterns, output_patterns)\n",
    "\n",
    "    test_input_pattern = [1, 0]\n",
    "    recalled_output_pattern = hetero_net.recall(test_input_pattern)\n",
    "\n",
    "    print(\"Original Input Pattern:\", test_input_pattern)\n",
    "    print(\"Recalled Output Pattern:\", recalled_output_pattern)"
   ]
  }
 ],
 "metadata": {
  "kernelspec": {
   "display_name": "Python 3",
   "language": "python",
   "name": "python3"
  },
  "language_info": {
   "codemirror_mode": {
    "name": "ipython",
    "version": 3
   },
   "file_extension": ".py",
   "mimetype": "text/x-python",
   "name": "python",
   "nbconvert_exporter": "python",
   "pygments_lexer": "ipython3",
   "version": "3.10.0"
  }
 },
 "nbformat": 4,
 "nbformat_minor": 2
}
