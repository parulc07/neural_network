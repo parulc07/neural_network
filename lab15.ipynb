{
 "cells": [
  {
   "cell_type": "markdown",
   "metadata": {},
   "source": [
    "## Practical-15: Write a program to solve XOR problem using RBF Network. "
   ]
  },
  {
   "cell_type": "code",
   "execution_count": 3,
   "metadata": {},
   "outputs": [],
   "source": [
    "import numpy as np\n",
    "import matplotlib.pyplot as plt"
   ]
  },
  {
   "cell_type": "code",
   "execution_count": 4,
   "metadata": {},
   "outputs": [],
   "source": [
    "\n",
    "# Define utility functions\n",
    "\n",
    "# Compute the radial basis function Φ1.\n",
    "def Φ1(x):\n",
    "    return np.exp(-np.linalg.norm(x - np.array([1, 1]))**2)\n",
    "\n",
    "# Compute the radial basis function Φ2.\n",
    "def Φ2(x):\n",
    "    return np.exp(-np.linalg.norm(x - np.array([0, 0]))**2)\n",
    "\n",
    "# Compute the output of the radial basis function network.\n",
    "def rbf_network(x):\n",
    "    return Φ1(x) - Φ2(x)\n",
    "\n",
    "# Define input data and labels for XOR problem\n",
    "X = np.array([[0, 0], [0, 1], [1, 0], [1, 1]])\n",
    "y = np.array([0, 1, 1, 0])"
   ]
  },
  {
   "cell_type": "code",
   "execution_count": 5,
   "metadata": {},
   "outputs": [
    {
     "data": {
      "image/png": "[encoded data removed]",
      "text/plain": [
       "<Figure size 360x360 with 1 Axes>"
      ]
     },
     "metadata": {
      "needs_background": "light"
     },
     "output_type": "display_data"
    }
   ],
   "source": [
    "# Plotting\n",
    "\n",
    "plt.figure(figsize=(5, 5))\n",
    "Φ1_values = [Φ1(x) for x in X]\n",
    "Φ2_values = [Φ2(x) for x in X]\n",
    "\n",
    "# Scatter plot of data points\n",
    "colors = ['red' if target == 0 else 'green' for target in y]\n",
    "plt.scatter(Φ1_values, Φ2_values, c=colors, edgecolors='k', s=100, label='Data Points')\n",
    "\n",
    "# Contour plot for the decision boundary\n",
    "x_range = np.linspace(min(Φ1_values) - 0.2, max(Φ1_values) + 0.2, 100)\n",
    "y_range = np.linspace(min(Φ2_values) - 0.2, max(Φ2_values) + 0.2, 100)\n",
    "X_range, Y_range = np.meshgrid(x_range, y_range)\n",
    "Z = np.zeros_like(X_range)\n",
    "\n",
    "# Calculate RBF network output for each point in the meshgrid\n",
    "for i in range(X_range.shape[0]):\n",
    "    for j in range(X_range.shape[1]):\n",
    "        Z[i, j] = rbf_network(np.array([X_range[i, j], Y_range[i, j]]))\n",
    "\n",
    "# Plot the contour of the decision boundary\n",
    "plt.contour(X_range, Y_range, Z, levels=[0], linewidths=1, colors='y')\n",
    "\n",
    "for i, point in enumerate(X):\n",
    "    xytext = (-20, 15) if np.array_equal(point, [0, 1]) else (20, -24) if np.array_equal(point, [1, 0]) else (0, 10)\n",
    "    plt.annotate(f'({point[0]}, {point[1]})', (Φ1_values[i], Φ2_values[i]), textcoords=\"offset points\", xytext=xytext, ha='center', fontsize=12)\n",
    "\n",
    "plt.title('Φ1(x) vs Φ2(x) for XOR')\n",
    "plt.xlabel('Φ1(x)')\n",
    "plt.ylabel('Φ2(x)')\n",
    "\n",
    "plt.tight_layout()\n",
    "plt.show()"
   ]
  }
 ],
 "metadata": {
  "kernelspec": {
   "display_name": "Python 3",
   "language": "python",
   "name": "python3"
  },
  "language_info": {
   "codemirror_mode": {
    "name": "ipython",
    "version": 3
   },
   "file_extension": ".py",
   "mimetype": "text/x-python",
   "name": "python",
   "nbconvert_exporter": "python",
   "pygments_lexer": "ipython3",
   "version": "3.10.0"
  }
 },
 "nbformat": 4,
 "nbformat_minor": 2
}
