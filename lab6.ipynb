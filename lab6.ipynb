{
  "cells": [
    {
      "cell_type": "markdown",
      "metadata": {},
      "source": [
        "Practical-Read the URL http://socr.ucla.edu/docs/resources/SOCR_Data/SOCR_Data_Dinov_020108_HeightsWeights.html to get the height and weight data. Convert the units to feet and inches for height, and kilograms for weight. Perform regression analysis using normal equation method by taking into account that size of data which works best as per your system's configuration. Appropriately assume any required information yourself."
      ]
    },
    {
      "cell_type": "code",
      "execution_count": null,
      "metadata": {
        "colab": {
          "base_uri": "https://localhost:8080/"
        },
        "id": "Dp6ewD_E7wnv",
        "outputId": "1443f1d1-7a56-4c9b-fd2b-9ef2d89e5cd3"
      },
      "outputs": [
        {
          "name": "stdout",
          "output_type": "stream",
          "text": [
            "[           0               1               2\n",
            "0      Index  Height(Inches)  Weight(Pounds)\n",
            "1          1        65.78331        112.9925\n",
            "2          2        71.51521        136.4873\n",
            "3          3        69.39874        153.0269\n",
            "4          4         68.2166        142.3354\n",
            "...      ...             ...             ...\n",
            "24996  24996        69.50215        118.0312\n",
            "24997  24997        64.54826        120.1932\n",
            "24998  24998        64.69855        118.2655\n",
            "24999  24999        67.52918        132.2682\n",
            "25000  25000        68.87761        124.8742\n",
            "\n",
            "[25001 rows x 3 columns]]\n"
          ]
        }
      ],
      "source": [
        "import pandas as pd\n",
        "import numpy as np\n",
        "\n",
        "# Load data from CSV\n",
        "data = pd.read_html(\n",
        "    'http://socr.ucla.edu/docs/resources/SOCR_Data/SOCR_Data_Dinov_020108_HeightsWeights.html')\n",
        "print(data)"
      ]
    },
    {
      "cell_type": "markdown",
      "metadata": {
        "id": "YdVYWL8MOLYz"
      },
      "source": []
    },
    {
      "cell_type": "code",
      "execution_count": null,
      "metadata": {
        "colab": {
          "base_uri": "https://localhost:8080/",
          "height": 423
        },
        "id": "WeDDP2zmAdIg",
        "outputId": "b6905a11-469a-4689-9ae9-4c07bf3c512b"
      },
      "outputs": [
        {
          "data": {
            "text/html": [
              "\n",
              "  <div id=\"df-fca1bc59-30c2-4430-97c1-b7bc463ea9e1\" class=\"colab-df-container\">\n",
              "    <div>\n",
              "<style scoped>\n",
              "    .dataframe tbody tr th:only-of-type {\n",
              "        vertical-align: middle;\n",
              "    }\n",
              "\n",
              "    .dataframe tbody tr th {\n",
              "        vertical-align: top;\n",
              "    }\n",
              "\n",
              "    .dataframe thead th {\n",
              "        text-align: right;\n",
              "    }\n",
              "</style>\n",
              "<table border=\"1\" class=\"dataframe\">\n",
              "  <thead>\n",
              "    <tr style=\"text-align: right;\">\n",
              "      <th></th>\n",
              "      <th>0</th>\n",
              "      <th>1</th>\n",
              "      <th>2</th>\n",
              "    </tr>\n",
              "  </thead>\n",
              "  <tbody>\n",
              "    <tr>\n",
              "      <th>0</th>\n",
              "      <td>Index</td>\n",
              "      <td>Height(Inches)</td>\n",
              "      <td>Weight(Pounds)</td>\n",
              "    </tr>\n",
              "    <tr>\n",
              "      <th>1</th>\n",
              "      <td>1</td>\n",
              "      <td>65.78331</td>\n",
              "      <td>112.9925</td>\n",
              "    </tr>\n",
              "    <tr>\n",
              "      <th>2</th>\n",
              "      <td>2</td>\n",
              "      <td>71.51521</td>\n",
              "      <td>136.4873</td>\n",
              "    </tr>\n",
              "    <tr>\n",
              "      <th>3</th>\n",
              "      <td>3</td>\n",
              "      <td>69.39874</td>\n",
              "      <td>153.0269</td>\n",
              "    </tr>\n",
              "    <tr>\n",
              "      <th>4</th>\n",
              "      <td>4</td>\n",
              "      <td>68.2166</td>\n",
              "      <td>142.3354</td>\n",
              "    </tr>\n",
              "    <tr>\n",
              "      <th>...</th>\n",
              "      <td>...</td>\n",
              "      <td>...</td>\n",
              "      <td>...</td>\n",
              "    </tr>\n",
              "    <tr>\n",
              "      <th>24996</th>\n",
              "      <td>24996</td>\n",
              "      <td>69.50215</td>\n",
              "      <td>118.0312</td>\n",
              "    </tr>\n",
              "    <tr>\n",
              "      <th>24997</th>\n",
              "      <td>24997</td>\n",
              "      <td>64.54826</td>\n",
              "      <td>120.1932</td>\n",
              "    </tr>\n",
              "    <tr>\n",
              "      <th>24998</th>\n",
              "      <td>24998</td>\n",
              "      <td>64.69855</td>\n",
              "      <td>118.2655</td>\n",
              "    </tr>\n",
              "    <tr>\n",
              "      <th>24999</th>\n",
              "      <td>24999</td>\n",
              "      <td>67.52918</td>\n",
              "      <td>132.2682</td>\n",
              "    </tr>\n",
              "    <tr>\n",
              "      <th>25000</th>\n",
              "      <td>25000</td>\n",
              "      <td>68.87761</td>\n",
              "      <td>124.8742</td>\n",
              "    </tr>\n",
              "  </tbody>\n",
              "</table>\n",
              "<p>25001 rows × 3 columns</p>\n",
              "</div>\n",
              "    <div class=\"colab-df-buttons\">\n",
              "\n",
              "  <div class=\"colab-df-container\">\n",
              "    <button class=\"colab-df-convert\" onclick=\"convertToInteractive('df-fca1bc59-30c2-4430-97c1-b7bc463ea9e1')\"\n",
              "            title=\"Convert this dataframe to an interactive table.\"\n",
              "            style=\"display:none;\">\n",
              "\n",
              "  <svg xmlns=\"http://www.w3.org/2000/svg\" height=\"24px\" viewBox=\"0 -960 960 960\">\n",
              "    <path d=\"M120-120v-720h720v720H120Zm60-500h600v-160H180v160Zm220 220h160v-160H400v160Zm0 220h160v-160H400v160ZM180-400h160v-160H180v160Zm440 0h160v-160H620v160ZM180-180h160v-160H180v160Zm440 0h160v-160H620v160Z\"/>\n",
              "  </svg>\n",
              "    </button>\n",
              "\n",
              "  <style>\n",
              "    .colab-df-container {\n",
              "      display:flex;\n",
              "      gap: 12px;\n",
              "    }\n",
              "\n",
              "    .colab-df-convert {\n",
              "      background-color: #E8F0FE;\n",
              "      border: none;\n",
              "      border-radius: 50%;\n",
              "      cursor: pointer;\n",
              "      display: none;\n",
              "      fill: #1967D2;\n",
              "      height: 32px;\n",
              "      padding: 0 0 0 0;\n",
              "      width: 32px;\n",
              "    }\n",
              "\n",
              "    .colab-df-convert:hover {\n",
              "      background-color: #E2EBFA;\n",
              "      box-shadow: 0px 1px 2px rgba(60, 64, 67, 0.3), 0px 1px 3px 1px rgba(60, 64, 67, 0.15);\n",
              "      fill: #174EA6;\n",
              "    }\n",
              "\n",
              "    .colab-df-buttons div {\n",
              "      margin-bottom: 4px;\n",
              "    }\n",
              "\n",
              "    [theme=dark] .colab-df-convert {\n",
              "      background-color: #3B4455;\n",
              "      fill: #D2E3FC;\n",
              "    }\n",
              "\n",
              "    [theme=dark] .colab-df-convert:hover {\n",
              "      background-color: #434B5C;\n",
              "      box-shadow: 0px 1px 3px 1px rgba(0, 0, 0, 0.15);\n",
              "      filter: drop-shadow(0px 1px 2px rgba(0, 0, 0, 0.3));\n",
              "      fill: #FFFFFF;\n",
              "    }\n",
              "  </style>\n",
              "\n",
              "    <script>\n",
              "      const buttonEl =\n",
              "        document.querySelector('#df-fca1bc59-30c2-4430-97c1-b7bc463ea9e1 button.colab-df-convert');\n",
              "      buttonEl.style.display =\n",
              "        google.colab.kernel.accessAllowed ? 'block' : 'none';\n",
              "\n",
              "      async function convertToInteractive(key) {\n",
              "        const element = document.querySelector('#df-fca1bc59-30c2-4430-97c1-b7bc463ea9e1');\n",
              "        const dataTable =\n",
              "          await google.colab.kernel.invokeFunction('convertToInteractive',\n",
              "                                                    [key], {});\n",
              "        if (!dataTable) return;\n",
              "\n",
              "        const docLinkHtml = 'Like what you see? Visit the ' +\n",
              "          '<a target=\"_blank\" href=https://colab.research.google.com/notebooks/data_table.ipynb>data table notebook</a>'\n",
              "          + ' to learn more about interactive tables.';\n",
              "        element.innerHTML = '';\n",
              "        dataTable['output_type'] = 'display_data';\n",
              "        await google.colab.output.renderOutput(dataTable, element);\n",
              "        const docLink = document.createElement('div');\n",
              "        docLink.innerHTML = docLinkHtml;\n",
              "        element.appendChild(docLink);\n",
              "      }\n",
              "    </script>\n",
              "  </div>\n",
              "\n",
              "\n",
              "<div id=\"df-64483d9b-27d7-4cc8-9004-b24ba75f6978\">\n",
              "  <button class=\"colab-df-quickchart\" onclick=\"quickchart('df-64483d9b-27d7-4cc8-9004-b24ba75f6978')\"\n",
              "            title=\"Suggest charts.\"\n",
              "            style=\"display:none;\">\n",
              "\n",
              "<svg xmlns=\"http://www.w3.org/2000/svg\" height=\"24px\"viewBox=\"0 0 24 24\"\n",
              "     width=\"24px\">\n",
              "    <g>\n",
              "        <path d=\"M19 3H5c-1.1 0-2 .9-2 2v14c0 1.1.9 2 2 2h14c1.1 0 2-.9 2-2V5c0-1.1-.9-2-2-2zM9 17H7v-7h2v7zm4 0h-2V7h2v10zm4 0h-2v-4h2v4z\"/>\n",
              "    </g>\n",
              "</svg>\n",
              "  </button>\n",
              "\n",
              "<style>\n",
              "  .colab-df-quickchart {\n",
              "    background-color: #E8F0FE;\n",
              "    border: none;\n",
              "    border-radius: 50%;\n",
              "    cursor: pointer;\n",
              "    display: none;\n",
              "    fill: #1967D2;\n",
              "    height: 32px;\n",
              "    padding: 0 0 0 0;\n",
              "    width: 32px;\n",
              "  }\n",
              "\n",
              "  .colab-df-quickchart:hover {\n",
              "    background-color: #E2EBFA;\n",
              "    box-shadow: 0px 1px 2px rgba(60, 64, 67, 0.3), 0px 1px 3px 1px rgba(60, 64, 67, 0.15);\n",
              "    fill: #174EA6;\n",
              "  }\n",
              "\n",
              "  [theme=dark] .colab-df-quickchart {\n",
              "    background-color: #3B4455;\n",
              "    fill: #D2E3FC;\n",
              "  }\n",
              "\n",
              "  [theme=dark] .colab-df-quickchart:hover {\n",
              "    background-color: #434B5C;\n",
              "    box-shadow: 0px 1px 3px 1px rgba(0, 0, 0, 0.15);\n",
              "    filter: drop-shadow(0px 1px 2px rgba(0, 0, 0, 0.3));\n",
              "    fill: #FFFFFF;\n",
              "  }\n",
              "</style>\n",
              "\n",
              "  <script>\n",
              "    async function quickchart(key) {\n",
              "      const charts = await google.colab.kernel.invokeFunction(\n",
              "          'suggestCharts', [key], {});\n",
              "    }\n",
              "    (() => {\n",
              "      let quickchartButtonEl =\n",
              "        document.querySelector('#df-64483d9b-27d7-4cc8-9004-b24ba75f6978 button');\n",
              "      quickchartButtonEl.style.display =\n",
              "        google.colab.kernel.accessAllowed ? 'block' : 'none';\n",
              "    })();\n",
              "  </script>\n",
              "</div>\n",
              "    </div>\n",
              "  </div>\n"
            ],
            "text/plain": [
              "           0               1               2\n",
              "0      Index  Height(Inches)  Weight(Pounds)\n",
              "1          1        65.78331        112.9925\n",
              "2          2        71.51521        136.4873\n",
              "3          3        69.39874        153.0269\n",
              "4          4         68.2166        142.3354\n",
              "...      ...             ...             ...\n",
              "24996  24996        69.50215        118.0312\n",
              "24997  24997        64.54826        120.1932\n",
              "24998  24998        64.69855        118.2655\n",
              "24999  24999        67.52918        132.2682\n",
              "25000  25000        68.87761        124.8742\n",
              "\n",
              "[25001 rows x 3 columns]"
            ]
          },
          "execution_count": 107,
          "metadata": {},
          "output_type": "execute_result"
        }
      ],
      "source": [
        "df = data[0]\n",
        "df"
      ]
    },
    {
      "cell_type": "code",
      "execution_count": null,
      "metadata": {
        "id": "cYY7T8XlBnX1"
      },
      "outputs": [],
      "source": [
        "c = 1\n",
        "for i in df[1]:\n",
        "  if i != \"Height(Inches)\":\n",
        "    # print(i)\n",
        "    k = i\n",
        "    k = float(k)\n",
        "    k = k/12\n",
        "    # print(k)\n",
        "    df[1][c] = k\n",
        "    c = c+1\n",
        "  else:\n",
        "    df[1][0] = \"Height(Feet)\"\n"
      ]
    },
    {
      "cell_type": "code",
      "execution_count": null,
      "metadata": {
        "colab": {
          "base_uri": "https://localhost:8080/"
        },
        "id": "C4zSi572FAU0",
        "outputId": "7497d334-7361-4998-bc09-a10470e8d4ab"
      },
      "outputs": [
        {
          "data": {
            "text/plain": [
              "0        Height(Feet)\n",
              "1            5.481942\n",
              "2            5.959601\n",
              "3            5.783228\n",
              "4            5.684717\n",
              "             ...     \n",
              "24996        5.791846\n",
              "24997        5.379022\n",
              "24998        5.391546\n",
              "24999        5.627432\n",
              "25000        5.739801\n",
              "Name: 1, Length: 25001, dtype: object"
            ]
          },
          "execution_count": 87,
          "metadata": {},
          "output_type": "execute_result"
        }
      ],
      "source": [
        "df[1]"
      ]
    },
    {
      "cell_type": "code",
      "execution_count": null,
      "metadata": {
        "id": "hjTWKLcDA5iy"
      },
      "outputs": [],
      "source": [
        "c = 1\n",
        "for i in df[2]:\n",
        "  if i != \"Weight(Pounds)\":\n",
        "    # print(i)\n",
        "    k = i\n",
        "    k = float(k)\n",
        "    k = k*0.45359237\n",
        "    # print(k)\n",
        "    df[2][c] = k\n",
        "    c = c+1\n",
        "  else:\n",
        "    df[2][0] = \"Weight(Kg)\""
      ]
    },
    {
      "cell_type": "code",
      "execution_count": null,
      "metadata": {
        "colab": {
          "base_uri": "https://localhost:8080/"
        },
        "id": "viNpIBYIA9tn",
        "outputId": "cc85da7b-d50f-492a-f869-a6bcca53dd95"
      },
      "outputs": [
        {
          "data": {
            "text/plain": [
              "0        Weight(Kg)\n",
              "1         51.252536\n",
              "2         61.909598\n",
              "3         69.411834\n",
              "4         64.562251\n",
              "            ...    \n",
              "24996     53.538052\n",
              "24997     54.518718\n",
              "24998     53.644328\n",
              "24999     59.995846\n",
              "25000     56.641984\n",
              "Name: 2, Length: 25001, dtype: object"
            ]
          },
          "execution_count": 110,
          "metadata": {},
          "output_type": "execute_result"
        }
      ],
      "source": [
        "df[2]"
      ]
    },
    {
      "cell_type": "code",
      "execution_count": null,
      "metadata": {
        "id": "vcTb4TtVJUQ2"
      },
      "outputs": [],
      "source": [
        "import matplotlib.pyplot as plt"
      ]
    },
    {
      "cell_type": "code",
      "execution_count": null,
      "metadata": {
        "id": "VCdxbZzrJnYJ"
      },
      "outputs": [],
      "source": [
        "heights = []\n",
        "\n",
        "for i in df[1]:\n",
        "  if i != \"Height(Feet)\":\n",
        "    # print(i)\n",
        "    k = i\n",
        "    k = float(k)\n",
        "    # print(k)\n",
        "    heights.append(k)"
      ]
    },
    {
      "cell_type": "code",
      "execution_count": null,
      "metadata": {
        "id": "ptFZYgykKQKW"
      },
      "outputs": [],
      "source": [
        "weights = []\n",
        "for i in df[2]:\n",
        "  if i != \"Weight(Kg)\":\n",
        "    k = i\n",
        "    k = float(k)\n",
        "    weights.append(k)"
      ]
    },
    {
      "cell_type": "code",
      "execution_count": null,
      "metadata": {
        "colab": {
          "base_uri": "https://localhost:8080/",
          "height": 507
        },
        "id": "hNHdoFYBLcJ5",
        "outputId": "0ce92925-8925-486d-feff-8781ae3a350c"
      },
      "outputs": [
        {
          "name": "stdout",
          "output_type": "stream",
          "text": [
            "Optimal θ0: -37.4557270011563\n",
            "Optimal θ1: 16.783696664514117\n"
          ]
        },
        {
          "data": {
            "image/png": "[encoded data removed]",
            "text/plain": [
              "<Figure size 640x480 with 1 Axes>"
            ]
          },
          "metadata": {},
          "output_type": "display_data"
        }
      ],
      "source": [
        "mean_height = sum(heights) / len(heights)\n",
        "mean_weight = sum(weights) / len(weights)\n",
        "\n",
        "# Calculate the coefficients\n",
        "numerator = sum((heights[i] - mean_height) * (weights[i] - mean_weight) for i in range(len(heights)))\n",
        "denominator = sum((heights[i] - mean_height) ** 2 for i in range(len(heights)))\n",
        "\n",
        "theta_1 = numerator / denominator\n",
        "theta_0 = mean_weight - theta_1 * mean_height\n",
        "\n",
        "print(\"Optimal θ0:\", theta_0)\n",
        "print(\"Optimal θ1:\", theta_1)\n",
        "\n",
        "# Calculate predicted weights\n",
        "predicted_weights = [theta_0 + theta_1 * h for h in heights]\n",
        "\n",
        "# Plot the data points and the regression line\n",
        "plt.scatter(heights, weights, label=\"Original Data\")\n",
        "plt.plot(heights, predicted_weights, color='red', label=\"Regression Line\")\n",
        "plt.xlabel(\"Height (Feet)\")\n",
        "plt.ylabel(\"Weight (Kg)\")\n",
        "plt.title(\"Linear Regression\")\n",
        "plt.legend()\n",
        "plt.show()"
      ]
    }
  ],
  "metadata": {
    "colab": {
      "provenance": []
    },
    "kernelspec": {
      "display_name": "Python 3",
      "name": "python3"
    },
    "language_info": {
      "name": "python",
      "version": "3.10.0"
    }
  },
  "nbformat": 4,
  "nbformat_minor": 0
}
