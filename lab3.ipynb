{
 "cells": [
  {
   "cell_type": "markdown",
   "metadata": {},
   "source": [
    "## Experiment - 3\n",
    "## The parity of n given bits is 1 if an odd number of them is equal to 1, otherwise it is 0. Build a network of McCulloch–Pitts units capable of computing the parity function of two, three, and four given bits. Appropriately assume any required information yourself.\n"
   ]
  },
  {
   "cell_type": "markdown",
   "metadata": {},
   "source": [
    "# 1. Importing NumPy"
   ]
  },
  {
   "cell_type": "code",
   "execution_count": 1,
   "metadata": {},
   "outputs": [],
   "source": [
    "import numpy as np"
   ]
  },
  {
   "cell_type": "markdown",
   "metadata": {},
   "source": [
    "# 2. Defining utility functions"
   ]
  },
  {
   "cell_type": "code",
   "execution_count": 2,
   "metadata": {},
   "outputs": [],
   "source": [
    "# Function for calculating weight sum\n",
    "\n",
    "def calc_sum(x, w) :\n",
    "    sum = 0\n",
    "    for i in range(x.size) :\n",
    "        sum = sum + (x[i]*w)\n",
    "\n",
    "    return sum\n",
    "\n",
    "# Function for checking parity\n",
    "def parity(ws) :\n",
    "    if (ws % 2 == 1) :\n",
    "        return 1\n",
    "    else :\n",
    "        return 0\n",
    "        "
   ]
  },
  {
   "cell_type": "markdown",
   "metadata": {},
   "source": [
    "# 3. Generating random binary input vectors of size 2, 3 and 4"
   ]
  },
  {
   "cell_type": "code",
   "execution_count": 3,
   "metadata": {},
   "outputs": [
    {
     "name": "stdout",
     "output_type": "stream",
     "text": [
      "[[1]\n",
      " [1]] \n",
      "\n",
      "[[0]\n",
      " [1]\n",
      " [0]] \n",
      "\n",
      "[[0]\n",
      " [1]\n",
      " [0]\n",
      " [1]] \n",
      "\n"
     ]
    }
   ],
   "source": [
    "# Input vector\n",
    "x1 = np.random.randint(0, 2, size=(2, 1))\n",
    "x2 = np.random.randint(0, 2, size=(3, 1))\n",
    "x3 = np.random.randint(0, 2, size=(4, 1))\n",
    "print(x1, \"\\n\")\n",
    "print(x2, \"\\n\")\n",
    "print(x3, \"\\n\")\n",
    "\n",
    "# Setting weights\n",
    "w = np.array([3])"
   ]
  },
  {
   "cell_type": "markdown",
   "metadata": {},
   "source": [
    "# 4. Checking parity for each input vector"
   ]
  },
  {
   "cell_type": "code",
   "execution_count": 4,
   "metadata": {},
   "outputs": [
    {
     "name": "stdout",
     "output_type": "stream",
     "text": [
      "[[6]\n",
      " [3]\n",
      " [6]]\n",
      "Even parity\n",
      "Odd parity\n",
      "Even parity\n"
     ]
    }
   ],
   "source": [
    "# Calculating sum\n",
    "ws = []\n",
    "ws1 = calc_sum(x1, w)\n",
    "ws.append(ws1)\n",
    "ws2 = calc_sum(x2, w)\n",
    "ws.append(ws2)\n",
    "ws3 = calc_sum(x3, w)\n",
    "ws.append(ws3)\n",
    "\n",
    "ws = np.array(ws)\n",
    "print(ws)\n",
    "# Checking if Odd parity or not\n",
    "for s in ws :\n",
    "    if (parity(s) == 1) :\n",
    "        print(\"Odd parity\")\n",
    "    else :\n",
    "        print(\"Even parity\")"
   ]
  }
 ],
 "metadata": {
  "kernelspec": {
   "display_name": "nn",
   "language": "python",
   "name": "python3"
  },
  "language_info": {
   "codemirror_mode": {
    "name": "ipython",
    "version": 3
   },
   "file_extension": ".py",
   "mimetype": "text/x-python",
   "name": "python",
   "nbconvert_exporter": "python",
   "pygments_lexer": "ipython3",
   "version": "3.10.0"
  },
  "orig_nbformat": 4
 },
 "nbformat": 4,
 "nbformat_minor": 2
}
