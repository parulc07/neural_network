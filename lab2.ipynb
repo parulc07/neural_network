{
 "cells": [
  {
   "cell_type": "markdown",
   "metadata": {},
   "source": [
    "## Realization of OR, NOT and NOR functions using McCulloch-Pitts Neuron Model and display of decision boundary.\n"
   ]
  },
  {
   "cell_type": "markdown",
   "metadata": {},
   "source": [
    "# 1. Importing Libraries"
   ]
  },
  {
   "cell_type": "code",
   "execution_count": 1,
   "metadata": {},
   "outputs": [],
   "source": [
    "import numpy as np\n",
    "import matplotlib.pyplot as plt"
   ]
  },
  {
   "cell_type": "markdown",
   "metadata": {},
   "source": [
    "# 2. Defining utility functions"
   ]
  },
  {
   "cell_type": "code",
   "execution_count": 2,
   "metadata": {},
   "outputs": [],
   "source": [
    "# Function for calculating weighted sum\n",
    "\n",
    "def calc_weighted_sum(x, w) :\n",
    "    weighted_sum = []\n",
    "\n",
    "    for vector in x :\n",
    "        sum = 0\n",
    "        for i in range(vector.size) :\n",
    "            sum = sum + (vector[i]*w[i])\n",
    "        weighted_sum.append(sum)\n",
    "\n",
    "    ws = np.array(weighted_sum)\n",
    "    return ws\n",
    "\n",
    "# Function for checking activation of neuron\n",
    "def activation(t, ws) :\n",
    "    if ws >= t :\n",
    "        return 1\n",
    "    else :\n",
    "        return 0\n",
    "\n",
    "# Function for drawing decision boundary\n",
    "def draw_boundary(t, x, w) :\n",
    "    if (t == 0) :\n",
    "        try :\n",
    "            # Plotting all possible binary inputs\n",
    "            for i, j in x :\n",
    "                plt.plot(i, j, 'ro')\n",
    "            # Plotting decision boundary\n",
    "            plt.axline((-1, 1), (1, -1))\n",
    "        except :\n",
    "            # Plotting all possible binary inputs\n",
    "            for i in x :\n",
    "                plt.plot(i, 0, 'ro')\n",
    "            # Plotting decision boundary\n",
    "            plt.axline((0, 10), (0, -10))\n",
    "    else :\n",
    "        try :\n",
    "            # Plotting all possible binary inputs\n",
    "            for i, j in x :\n",
    "                plt.plot(i, j, 'ro')\n",
    "            # Plotting decision boundary\n",
    "            plt.axline((0, t), (t, 0))\n",
    "        except :\n",
    "            # Plotting all possible binary inputs\n",
    "            for i in x :\n",
    "                plt.plot(i, 0, 'ro')\n",
    "            # Plotting decision boundary\n",
    "            plt.axline((t, -10), (t, 10))\n",
    "    \n",
    "    # Setting coefficients of x and y for inequality\n",
    "    try :\n",
    "        a = w[0]\n",
    "        b = w[1]\n",
    "        c = t\n",
    "    except :\n",
    "        a = w\n",
    "        b = 0\n",
    "        c = t\n",
    "\n",
    "    # Creating a mesh of x and y values\n",
    "    x = np.linspace(-1, 10, 1000)\n",
    "    y = np.linspace(-1, 10, 1000)\n",
    "    X, Y = np.meshgrid(x, y)\n",
    "\n",
    "    # Defining the inequality as a boolean mask\n",
    "    inequality = (a*X + b*Y >= c)\n",
    "\n",
    "    # Displaying the shaded region for the inequality\n",
    "    plt.imshow(inequality, extent=(x.min(), x.max(), y.min(), y.max()), origin=\"lower\", cmap=\"Blues\", alpha=0.7)\n",
    "    plt.xlabel('x')\n",
    "    plt.ylabel('y')\n",
    "    plt.grid(True)\n",
    "    plt.show()\n"
   ]
  },
  {
   "cell_type": "markdown",
   "metadata": {},
   "source": [
    "# 3. Realization of  OR Function"
   ]
  },
  {
   "cell_type": "code",
   "execution_count": 3,
   "metadata": {},
   "outputs": [
    {
     "name": "stdout",
     "output_type": "stream",
     "text": [
      "[[0 0]\n",
      " [0 1]\n",
      " [1 0]\n",
      " [1 1]]\n",
      "[1 1]\n"
     ]
    }
   ],
   "source": [
    "# Input vector\n",
    "x1 = np.array([[0, 0],\n",
    "              [0, 1],\n",
    "              [1, 0],\n",
    "              [1, 1]])\n",
    "\n",
    "# Setting weights\n",
    "w1 = np.array([1, 1])\n",
    "\n",
    "print(x1)\n",
    "print(w1)"
   ]
  },
  {
   "cell_type": "code",
   "execution_count": 4,
   "metadata": {},
   "outputs": [
    {
     "name": "stdout",
     "output_type": "stream",
     "text": [
      "Activation : 0\n",
      "Activation : 1\n",
      "Activation : 1\n",
      "Activation : 1\n"
     ]
    },
    {
     "data": {
      "image/png": "[encoded data removed]",
      "text/plain": [
       "<Figure size 432x288 with 1 Axes>"
      ]
     },
     "metadata": {
      "needs_background": "light"
     },
     "output_type": "display_data"
    }
   ],
   "source": [
    "# Setting threshold\n",
    "t = 1\n",
    "\n",
    "# Calculating weighted sum\n",
    "ws1 = calc_weighted_sum(x1, w1)\n",
    "\n",
    "# Checking activation for each input\n",
    "for i in ws1 :\n",
    "    print(\"Activation : \" + str(activation(t, i)))\n",
    "\n",
    "# Drawing decision boundary\n",
    "draw_boundary(t, x1, w1)"
   ]
  },
  {
   "cell_type": "markdown",
   "metadata": {},
   "source": [
    "# 4. Realization of  NOT Function"
   ]
  },
  {
   "cell_type": "code",
   "execution_count": 5,
   "metadata": {},
   "outputs": [
    {
     "name": "stdout",
     "output_type": "stream",
     "text": [
      "[[0]\n",
      " [1]]\n",
      "[-1]\n"
     ]
    }
   ],
   "source": [
    "# Input vector\n",
    "x2 = np.array([[0],\n",
    "              [1]])\n",
    "\n",
    "# Setting weights\n",
    "w2 = np.array([-1])\n",
    "\n",
    "print(x2)\n",
    "print(w2)"
   ]
  },
  {
   "cell_type": "code",
   "execution_count": 6,
   "metadata": {},
   "outputs": [
    {
     "name": "stdout",
     "output_type": "stream",
     "text": [
      "Activation : 1\n",
      "Activation : 0\n"
     ]
    },
    {
     "data": {
      "image/png": "[encoded data removed]",
      "text/plain": [
       "<Figure size 432x288 with 1 Axes>"
      ]
     },
     "metadata": {
      "needs_background": "light"
     },
     "output_type": "display_data"
    }
   ],
   "source": [
    "# Setting threshold\n",
    "t = 0\n",
    "\n",
    "# Calculating weighted sum\n",
    "ws2 = calc_weighted_sum(x2, w2)\n",
    "\n",
    "# Checking activation for each input\n",
    "for i in ws2 :\n",
    "    print(\"Activation : \" + str(activation(t, i)))\n",
    "\n",
    "# Drawing decision boundary\n",
    "draw_boundary(t, x2, w2)"
   ]
  },
  {
   "cell_type": "markdown",
   "metadata": {},
   "source": [
    "# 5. Realization of NOR Function"
   ]
  },
  {
   "cell_type": "code",
   "execution_count": 7,
   "metadata": {},
   "outputs": [
    {
     "name": "stdout",
     "output_type": "stream",
     "text": [
      "[[0 0]\n",
      " [0 1]\n",
      " [1 0]\n",
      " [1 1]]\n",
      "[-1 -1]\n"
     ]
    }
   ],
   "source": [
    "# Input vector\n",
    "x3 = np.array([[0, 0],\n",
    "              [0, 1],\n",
    "              [1, 0],\n",
    "              [1, 1]])\n",
    "\n",
    "# Setting weights\n",
    "w3 = np.array([-1, -1])\n",
    "\n",
    "print(x3)\n",
    "print(w3)"
   ]
  },
  {
   "cell_type": "code",
   "execution_count": 8,
   "metadata": {},
   "outputs": [
    {
     "name": "stdout",
     "output_type": "stream",
     "text": [
      "Activation : 1\n",
      "Activation : 0\n",
      "Activation : 0\n",
      "Activation : 0\n"
     ]
    },
    {
     "data": {
      "image/png": "[encoded data removed]",
      "text/plain": [
       "<Figure size 432x288 with 1 Axes>"
      ]
     },
     "metadata": {
      "needs_background": "light"
     },
     "output_type": "display_data"
    }
   ],
   "source": [
    "# Setting threshold\n",
    "t = 0\n",
    "\n",
    "# Calculating weighted sum\n",
    "ws3 = calc_weighted_sum(x3, w3)\n",
    "\n",
    "# Checking activation for each input\n",
    "for i in ws3 :\n",
    "    print(\"Activation : \" + str(activation(t, i)))\n",
    "\n",
    "# Drawing decision boundary\n",
    "draw_boundary(t, x3, w3)"
   ]
  },
  {
   "cell_type": "markdown",
   "metadata": {},
   "source": [
    "# 6. Realization of AND function"
   ]
  },
  {
   "cell_type": "code",
   "execution_count": 9,
   "metadata": {},
   "outputs": [
    {
     "name": "stdout",
     "output_type": "stream",
     "text": [
      "[[0 0]\n",
      " [0 1]\n",
      " [1 0]\n",
      " [1 1]]\n",
      "[1 1]\n"
     ]
    }
   ],
   "source": [
    "# Input vector\n",
    "x4 = np.array([[0, 0],\n",
    "              [0, 1],\n",
    "              [1, 0],\n",
    "              [1, 1]])\n",
    "\n",
    "# Setting weights\n",
    "w4 = np.array([1, 1])\n",
    "\n",
    "print(x4)\n",
    "print(w4)"
   ]
  },
  {
   "cell_type": "code",
   "execution_count": 10,
   "metadata": {},
   "outputs": [
    {
     "name": "stdout",
     "output_type": "stream",
     "text": [
      "Activation : 0\n",
      "Activation : 0\n",
      "Activation : 0\n",
      "Activation : 1\n"
     ]
    },
    {
     "data": {
      "image/png": "[encoded data removed]",
      "text/plain": [
       "<Figure size 432x288 with 1 Axes>"
      ]
     },
     "metadata": {
      "needs_background": "light"
     },
     "output_type": "display_data"
    }
   ],
   "source": [
    "# Setting threshold\n",
    "t = 2\n",
    "\n",
    "# Calculating weighted sum\n",
    "ws4 = calc_weighted_sum(x4, w4)\n",
    "\n",
    "# Checking activation for each input\n",
    "for i in ws4 :\n",
    "    print(\"Activation : \" + str(activation(t, i)))\n",
    "\n",
    "# Drawing decision boundary\n",
    "draw_boundary(t, x4, w4)"
   ]
  }
 ],
 "metadata": {
  "kernelspec": {
   "display_name": "Python 3",
   "language": "python",
   "name": "python3"
  },
  "language_info": {
   "codemirror_mode": {
    "name": "ipython",
    "version": 3
   },
   "file_extension": ".py",
   "mimetype": "text/x-python",
   "name": "python",
   "nbconvert_exporter": "python",
   "pygments_lexer": "ipython3",
   "version": "3.10.0"
  },
  "orig_nbformat": 4
 },
 "nbformat": 4,
 "nbformat_minor": 2
}
