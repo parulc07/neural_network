{
 "cells": [
  {
   "cell_type": "markdown",
   "metadata": {},
   "source": [
    "## Experiment - 10\n",
    "## Write a program to demonstrate Boltzmann Learning.\n"
   ]
  },
  {
   "cell_type": "code",
   "execution_count": 1,
   "metadata": {},
   "outputs": [],
   "source": [
    "import numpy as np"
   ]
  },
  {
   "cell_type": "code",
   "execution_count": 2,
   "metadata": {},
   "outputs": [],
   "source": [
    "# Define the cost function to be minimized\n",
    "def cost_function(x):\n",
    "    return x**2 + 5 * np.sin(x)\n"
   ]
  },
  {
   "cell_type": "code",
   "execution_count": 3,
   "metadata": {},
   "outputs": [
    {
     "name": "stdout",
     "output_type": "stream",
     "text": [
      "Best Solution: -1.109651372288427\n",
      "Best Cost: -3.2463918815984067\n"
     ]
    }
   ],
   "source": [
    "# Simulated Annealing (Boltzmann Learning) function\n",
    "def simulated_annealing(cost_function, initial_solution, temperature, cooling_rate, iterations):\n",
    "    current_solution = initial_solution\n",
    "    current_cost = cost_function(current_solution)\n",
    "    best_solution = current_solution\n",
    "    best_cost = current_cost\n",
    "\n",
    "    for i in range(iterations):\n",
    "        # Generate a random neighbor solution\n",
    "        neighbor_solution = current_solution + np.random.uniform(-1, 1)\n",
    "        neighbor_cost = cost_function(neighbor_solution)\n",
    "\n",
    "        # Calculate the change in cost\n",
    "        cost_change = neighbor_cost - current_cost\n",
    "\n",
    "        # Accept the neighbor solution if it's better or with a certain probability\n",
    "        if cost_change < 0 or np.random.rand() < np.exp(-cost_change / temperature):\n",
    "            current_solution = neighbor_solution\n",
    "            current_cost = neighbor_cost\n",
    "\n",
    "        # Update the best solution if necessary\n",
    "        if current_cost < best_cost:\n",
    "            best_solution = current_solution\n",
    "            best_cost = current_cost\n",
    "\n",
    "        # Reduce the temperature\n",
    "        temperature *= cooling_rate\n",
    "\n",
    "    return best_solution, best_cost\n",
    "\n",
    "if __name__ == \"__main__\":\n",
    "    # Set initial parameters\n",
    "    initial_solution = np.random.uniform(-10, 10)\n",
    "    initial_temperature = 1000\n",
    "    cooling_rate = 0.99\n",
    "    iterations = 1000\n",
    "\n",
    "    # Find the minimum using Boltzmann Learning\n",
    "    best_solution, best_cost = simulated_annealing(cost_function, initial_solution, initial_temperature, cooling_rate, iterations)\n",
    "\n",
    "    print(\"Best Solution:\", best_solution)\n",
    "    print(\"Best Cost:\", best_cost)\n"
   ]
  }
 ],
 "metadata": {
  "kernelspec": {
   "display_name": "Python 3",
   "language": "python",
   "name": "python3"
  },
  "language_info": {
   "codemirror_mode": {
    "name": "ipython",
    "version": 3
   },
   "file_extension": ".py",
   "mimetype": "text/x-python",
   "name": "python",
   "nbconvert_exporter": "python",
   "pygments_lexer": "ipython3",
   "version": "3.10.0"
  },
  "orig_nbformat": 4
 },
 "nbformat": 4,
 "nbformat_minor": 2
}
