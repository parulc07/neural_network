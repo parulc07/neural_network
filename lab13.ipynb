{
 "cells": [
  {
   "cell_type": "markdown",
   "metadata": {},
   "source": [
    "## Practical-13: Write a program to demonstrate the working of autoassociative memory."
   ]
  },
  {
   "cell_type": "code",
   "execution_count": 1,
   "metadata": {},
   "outputs": [
    {
     "data": {
      "image/png": "[encoded data removed]",
      "text/plain": [
       "<Figure size 432x288 with 1 Axes>"
      ]
     },
     "metadata": {
      "needs_background": "light"
     },
     "output_type": "display_data"
    },
    {
     "data": {
      "image/png": "[encoded data removed]",
      "text/plain": [
       "<Figure size 432x288 with 1 Axes>"
      ]
     },
     "metadata": {
      "needs_background": "light"
     },
     "output_type": "display_data"
    }
   ],
   "source": [
    "import numpy as np\n",
    "import matplotlib.pyplot as plt\n",
    "\n",
    "class HopfieldNetwork:\n",
    "    def __init__(self, size):\n",
    "        self.size = size\n",
    "        self.weights = np.zeros((size, size))\n",
    "\n",
    "    def train(self, patterns):\n",
    "        for pattern in patterns:\n",
    "            pattern = np.array(pattern).reshape((self.size, 1))\n",
    "            self.weights += np.outer(pattern, pattern)\n",
    "            np.fill_diagonal(self.weights, 0)\n",
    "\n",
    "    def recall(self, pattern, max_iterations=100):\n",
    "        pattern = np.array(pattern).reshape((self.size, 1))\n",
    "        for _ in range(max_iterations):\n",
    "            net_input = np.dot(self.weights, pattern)\n",
    "            pattern = np.sign(net_input)\n",
    "        return pattern.flatten()\n",
    "\n",
    "def display_pattern(pattern, title):\n",
    "    plt.imshow(pattern.reshape(int(np.sqrt(len(pattern))), -1), cmap='gray')\n",
    "    plt.title(title)\n",
    "    plt.show()\n",
    "\n",
    "if __name__ == \"__main__\":\n",
    "    patterns = [\n",
    "        [1, -1, 1, -1],\n",
    "        [-1, 1, -1, 1],\n",
    "        [1, 1, 1, 1]\n",
    "    ]\n",
    "\n",
    "    size_of_pattern = len(patterns[0])\n",
    "    hopfield_net = HopfieldNetwork(size_of_pattern)\n",
    "    hopfield_net.train(patterns)\n",
    "\n",
    "    test_pattern = [1, -1, 0, 1]\n",
    "    recalled_pattern = hopfield_net.recall(test_pattern)\n",
    "\n",
    "    display_pattern(np.array(test_pattern), \"Original Pattern\")\n",
    "    display_pattern(recalled_pattern, \"Recalled Pattern\")\n"
   ]
  }
 ],
 "metadata": {
  "kernelspec": {
   "display_name": "Python 3",
   "language": "python",
   "name": "python3"
  },
  "language_info": {
   "codemirror_mode": {
    "name": "ipython",
    "version": 3
   },
   "file_extension": ".py",
   "mimetype": "text/x-python",
   "name": "python",
   "nbconvert_exporter": "python",
   "pygments_lexer": "ipython3",
   "version": "3.10.0"
  }
 },
 "nbformat": 4,
 "nbformat_minor": 2
}
