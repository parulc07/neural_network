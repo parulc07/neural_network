{
 "cells": [
  {
   "cell_type": "markdown",
   "metadata": {},
   "source": [
    "Experiment:4\n",
    "\n",
    "Design a McCulloch–Pitts unit capable of recognizing the letter “T” digitized in a 10 × 10 array of pixels. Dark pixels should be coded as 1, white pixels as 0."
   ]
  },
  {
   "cell_type": "code",
   "execution_count": 9,
   "metadata": {},
   "outputs": [],
   "source": [
    "import matplotlib.pyplot as plt\n",
    "import matplotlib.colors"
   ]
  },
  {
   "cell_type": "code",
   "execution_count": 10,
   "metadata": {},
   "outputs": [],
   "source": [
    "# Function for calculating weighted sum\n",
    "\n",
    "def calc_weighted_sum(T, input) :\n",
    "    sum = 0\n",
    "    for i in range(len(input)) :\n",
    "        for j in range(len(input[0])) :\n",
    "            sum += input[i][j]*T[i][j]\n",
    "    return sum\n",
    "\n",
    "# Function for checking activation of neuron\n",
    "def recognition(sum, threshold) :\n",
    "    if sum >= threshold :\n",
    "        return 1\n",
    "    else :\n",
    "        return 0\n"
   ]
  },
  {
   "cell_type": "code",
   "execution_count": 11,
   "metadata": {},
   "outputs": [
    {
     "data": {
      "text/plain": [
       "Text(0.5, 1.0, 'Letter T')"
      ]
     },
     "execution_count": 11,
     "metadata": {},
     "output_type": "execute_result"
    },
    {
     "data": {
      "image/png": "[encoded data removed]",
      "text/plain": [
       "<Figure size 432x288 with 1 Axes>"
      ]
     },
     "metadata": {
      "needs_background": "light"
     },
     "output_type": "display_data"
    }
   ],
   "source": [
    "T = [\n",
    "    [1, 1, 1, 1, 1, 1, 1, 1, 1, 1],\n",
    "    [1, 1, 1, 1, 1, 1, 1, 1, 1, 1],\n",
    "    [0, 0, 0, 0, 1, 1, 0, 0, 0, 0],\n",
    "    [0, 0, 0, 0, 1, 1, 0, 0, 0, 0],\n",
    "    [0, 0, 0, 0, 1, 1, 0, 0, 0, 0],\n",
    "    [0, 0, 0, 0, 1, 1, 0, 0, 0, 0],\n",
    "    [0, 0, 0, 0, 1, 1, 0, 0, 0, 0],\n",
    "    [0, 0, 0, 0, 1, 1, 0, 0, 0, 0],\n",
    "    [0, 0, 0, 0, 1, 1, 0, 0, 0, 0],\n",
    "    [0, 0, 0, 0, 1, 1, 0, 0, 0, 0]\n",
    "]\n",
    "\n",
    "cmap = matplotlib.colors.ListedColormap([\"white\", \"black\"])\n",
    "plt.subplot(121).imshow(T, cmap = cmap)\n",
    "plt.title(\"Letter T\")\n"
   ]
  },
  {
   "cell_type": "code",
   "execution_count": 12,
   "metadata": {},
   "outputs": [
    {
     "data": {
      "image/png": "[encoded data removed]",
      "text/plain": [
       "<Figure size 432x288 with 2 Axes>"
      ]
     },
     "metadata": {
      "needs_background": "light"
     },
     "output_type": "display_data"
    }
   ],
   "source": [
    "# Higher the threshold, more accurate is the letter\n",
    "# For given configuration of letter 'T', max threshold can be set to 36\n",
    "threshold = 30\n",
    "\n",
    "# Input 1 that closely resembles the letter 'T'\n",
    "input1 = [\n",
    "    [1, 0, 1, 1, 1, 1, 0, 1, 0, 1],\n",
    "    [1, 1, 1, 1, 1, 1, 1, 1, 1, 1],\n",
    "    [0, 0, 0, 0, 1, 1, 0, 0, 0, 0],\n",
    "    [0, 0, 0, 0, 1, 0, 0, 0, 0, 0],\n",
    "    [0, 0, 0, 0, 1, 1, 0, 0, 0, 0],\n",
    "    [0, 0, 0, 0, 1, 1, 0, 0, 0, 0],\n",
    "    [0, 0, 0, 0, 1, 1, 0, 0, 0, 0],\n",
    "    [0, 0, 0, 0, 0, 1, 0, 0, 0, 0],\n",
    "    [0, 0, 0, 0, 1, 1, 0, 0, 0, 0],\n",
    "    [0, 0, 0, 0, 1, 1, 0, 0, 0, 0]\n",
    "]\n",
    "\n",
    "# Check for Input 1\n",
    "sum1 = calc_weighted_sum(T, input1)\n",
    "if(recognition(sum1, threshold)) :\n",
    "    cmap = matplotlib.colors.ListedColormap([\"white\", \"black\"])\n",
    "    plt.subplot(121).imshow(input1, cmap = cmap)\n",
    "    plt.title(\"Input 1 : T recognised\")\n",
    "else :\n",
    "    cmap = matplotlib.colors.ListedColormap([\"white\", \"red\"])\n",
    "    plt.subplot(121).imshow(input1, cmap = cmap)\n",
    "    plt.title(\"Input 1 : T unrecognised\")\n",
    "\n",
    "# Input 2 that doesn't closely resemble the letter 'T'\n",
    "input2 = [\n",
    "    [1, 0, 1, 1, 0, 1, 0, 1, 0, 1],\n",
    "    [1, 1, 1, 1, 1, 1, 0, 1, 1, 1],\n",
    "    [0, 0, 0, 0, 1, 1, 0, 0, 0, 0],\n",
    "    [0, 0, 0, 0, 1, 0, 0, 0, 0, 0],\n",
    "    [0, 0, 0, 0, 1, 1, 0, 0, 0, 0],\n",
    "    [0, 0, 0, 0, 0, 1, 0, 0, 0, 0],\n",
    "    [0, 0, 0, 0, 1, 1, 0, 0, 0, 0],\n",
    "    [0, 0, 0, 0, 0, 1, 0, 0, 0, 0],\n",
    "    [0, 0, 0, 0, 1, 1, 0, 0, 0, 0],\n",
    "    [0, 0, 0, 0, 1, 1, 0, 0, 0, 0]\n",
    "]\n",
    "\n",
    "# Check for Input 2\n",
    "sum2 = calc_weighted_sum(T, input2)\n",
    "if(recognition(sum2, threshold)) :\n",
    "    cmap = matplotlib.colors.ListedColormap([\"white\", \"black\"])\n",
    "    plt.subplot(122).imshow(input2, cmap = cmap)\n",
    "    plt.title(\"Input 2 : T recognised\")\n",
    "else :\n",
    "    cmap = matplotlib.colors.ListedColormap([\"white\", \"red\"])\n",
    "    plt.subplot(122).imshow(input2, cmap = cmap)\n",
    "    plt.title(\"Input 2 : T unrecognised\")\n"
   ]
  }
 ],
 "metadata": {
  "kernelspec": {
   "display_name": "Python 3",
   "language": "python",
   "name": "python3"
  },
  "language_info": {
   "codemirror_mode": {
    "name": "ipython",
    "version": 3
   },
   "file_extension": ".py",
   "mimetype": "text/x-python",
   "name": "python",
   "nbconvert_exporter": "python",
   "pygments_lexer": "ipython3",
   "version": "3.10.0"
  },
  "orig_nbformat": 4
 },
 "nbformat": 4,
 "nbformat_minor": 2
}
